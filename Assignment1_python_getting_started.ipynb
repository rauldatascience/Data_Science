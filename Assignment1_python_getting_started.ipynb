{
  "nbformat": 4,
  "nbformat_minor": 0,
  "metadata": {
    "colab": {
      "name": "Assignment1_python_getting_started.ipynb",
      "provenance": [],
      "include_colab_link": true
    },
    "kernelspec": {
      "display_name": "Python 3",
      "language": "python",
      "name": "python3"
    },
    "language_info": {
      "codemirror_mode": {
        "name": "ipython",
        "version": 3
      },
      "file_extension": ".py",
      "mimetype": "text/x-python",
      "name": "python",
      "nbconvert_exporter": "python",
      "pygments_lexer": "ipython3",
      "version": "3.7.4"
    }
  },
  "cells": [
    {
      "cell_type": "markdown",
      "metadata": {
        "id": "view-in-github",
        "colab_type": "text"
      },
      "source": [
        "<a href=\"https://colab.research.google.com/github/rauldatascience/Data_Science/blob/master/Assignment1_python_getting_started.ipynb\" target=\"_parent\"><img src=\"https://colab.research.google.com/assets/colab-badge.svg\" alt=\"Open In Colab\"/></a>"
      ]
    },
    {
      "cell_type": "markdown",
      "metadata": {
        "colab_type": "text",
        "id": "f1TWTGqob4vF",
        "tags": [
          "Python",
          "Assignments",
          "Practice",
          "course",
          "python"
        ]
      },
      "source": [
        " # Getting Started with Python Basics"
      ]
    },
    {
      "cell_type": "markdown",
      "metadata": {
        "colab_type": "text",
        "id": "whK_2Ayvb4vI",
        "tags": [
          "reverese_number",
          "python_excercise",
          "code",
          "python"
        ]
      },
      "source": [
        "### Excercise 1\n",
        "\n",
        "<b><p> Write code to generate the fibiniocci series.</b>\n",
        "    <br> \n",
        "  Create a function fib(length) which generates fibiniocci series of a specific lenght.  For example \n",
        "    <li> fib(5) will return [0,1,1,2,3]\n",
        "    <li> fib(8) will return [0,1,1,2,3,5,8,13]\n",
        "    <li> fib(10) will return [0,1,1,2,3,5,8,13,21,34]\n",
        "      <br>you can use [0,1] as known initial values  "
      ]
    },
    {
      "cell_type": "code",
      "metadata": {
        "colab_type": "code",
        "id": "dWx0iwNAb4vJ",
        "colab": {}
      },
      "source": [
        "def fib(length):\n",
        "    if length == 1:\n",
        "        out = [0]\n",
        "    elif length == 2:\n",
        "        out = [0,1]\n",
        "    else:\n",
        "        out = [0,1]\n",
        "        for numbers in range(2,length):\n",
        "            out.append(out[numbers-1]+out[numbers-2])   \n",
        "    return out"
      ],
      "execution_count": 0,
      "outputs": []
    },
    {
      "cell_type": "code",
      "metadata": {
        "scrolled": true,
        "id": "BRg0CInmF3pA",
        "colab_type": "code",
        "outputId": "e1f06682-03b6-4f41-d0e9-dd7f76019e8c",
        "colab": {
          "base_uri": "https://localhost:8080/",
          "height": 34
        }
      },
      "source": [
        "fib(10)"
      ],
      "execution_count": 6,
      "outputs": [
        {
          "output_type": "execute_result",
          "data": {
            "text/plain": [
              "[0, 1, 1, 2, 3, 5, 8, 13, 21, 34]"
            ]
          },
          "metadata": {
            "tags": []
          },
          "execution_count": 6
        }
      ]
    },
    {
      "cell_type": "markdown",
      "metadata": {
        "colab_type": "text",
        "id": "W8WYSjV3b4vS",
        "tags": [
          "python",
          "excercise"
        ]
      },
      "source": [
        "### Excercise 2\n",
        "\n",
        "<b><p> Write a program tp generate password of length 8 which should have a minimum number and one minimum upper case character. The password should be randomly generated </b>\n",
        " \n",
        "Hints: you can use pacakge string >> <br>\n",
        "<code> import string</code><br>\n",
        "<code> string.ascii_lowercase</code><br>\n",
        "<code>string.ascii_uppercase</code>\n"
      ]
    },
    {
      "cell_type": "code",
      "metadata": {
        "colab_type": "code",
        "id": "8ngdJGK3b4vU",
        "colab": {}
      },
      "source": [
        "def getPassword(length):\n",
        "    \n",
        "    \n",
        "    \n",
        "    \n",
        "    \n",
        "    return password"
      ],
      "execution_count": 0,
      "outputs": []
    },
    {
      "cell_type": "code",
      "metadata": {
        "colab_type": "code",
        "id": "YgE1DnDDb4vl",
        "outputId": "3c85b2f8-233a-42fe-b629-4c5ef09614e0",
        "colab": {}
      },
      "source": [
        "# Your solution goes here.\n",
        "getPassword(10)"
      ],
      "execution_count": 0,
      "outputs": [
        {
          "output_type": "execute_result",
          "data": {
            "text/plain": [
              "'L8rrmwUlAs'"
            ]
          },
          "metadata": {
            "tags": []
          },
          "execution_count": 39
        }
      ]
    }
  ]
}