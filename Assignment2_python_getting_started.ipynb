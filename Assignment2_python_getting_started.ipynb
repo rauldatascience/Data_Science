{
  "nbformat": 4,
  "nbformat_minor": 0,
  "metadata": {
    "colab": {
      "name": "Assignment2_python_getting_started.ipynb",
      "provenance": [],
      "include_colab_link": true
    },
    "kernelspec": {
      "display_name": "Python 3",
      "language": "python",
      "name": "python3"
    },
    "language_info": {
      "codemirror_mode": {
        "name": "ipython",
        "version": 3
      },
      "file_extension": ".py",
      "mimetype": "text/x-python",
      "name": "python",
      "nbconvert_exporter": "python",
      "pygments_lexer": "ipython3",
      "version": "3.6.7"
    }
  },
  "cells": [
    {
      "cell_type": "markdown",
      "metadata": {
        "id": "view-in-github",
        "colab_type": "text"
      },
      "source": [
        "<a href=\"https://colab.research.google.com/github/rauldatascience/Data_Science/blob/master/Assignment2_python_getting_started.ipynb\" target=\"_parent\"><img src=\"https://colab.research.google.com/assets/colab-badge.svg\" alt=\"Open In Colab\"/></a>"
      ]
    },
    {
      "cell_type": "markdown",
      "metadata": {
        "colab_type": "text",
        "id": "f1TWTGqob4vF",
        "tags": [
          "Python",
          "Assignments",
          "Practice",
          "course",
          "python"
        ]
      },
      "source": [
        " # Getting Started with Python"
      ]
    },
    {
      "cell_type": "markdown",
      "metadata": {
        "colab_type": "text",
        "id": "whK_2Ayvb4vI",
        "tags": [
          "reverese_number",
          "python_excercise",
          "code",
          "python"
        ]
      },
      "source": [
        "### Excercise 1\n",
        "\n",
        "<b><p> Write code which accepts a number from user and returns the reverse of it.</b>\n",
        "    <br> For example \n",
        "    <li> reverse_number(852) will return 258\n",
        "    <li> reverse_number(6242) will return 2426\n",
        "    <li> reverse_number(81) will return 18"
      ]
    },
    {
      "cell_type": "code",
      "metadata": {
        "colab_type": "code",
        "id": "dWx0iwNAb4vJ",
        "colab": {}
      },
      "source": [
        "def reverse_number(num):\n",
        "    var_reverse = 0\n",
        "    while (num!=0):\n",
        "      last_digit = num % 10\n",
        "      var_reverse = (var_reverse * 10) + last_digit\n",
        "      num = num//10\n",
        "    \n",
        "    \n",
        "    num = var_reverse\n",
        "    return num"
      ],
      "execution_count": 0,
      "outputs": []
    },
    {
      "cell_type": "code",
      "metadata": {
        "id": "jM2u2v1f0V6H",
        "colab_type": "code",
        "colab": {
          "base_uri": "https://localhost:8080/",
          "height": 68
        },
        "outputId": "1ce90c93-094d-4795-c14c-005635ec44a8"
      },
      "source": [
        "# Testing Function\n",
        "print(reverse_number(852))\n",
        "print(reverse_number(6242))\n",
        "print(reverse_number(81))"
      ],
      "execution_count": 4,
      "outputs": [
        {
          "output_type": "stream",
          "text": [
            "258\n",
            "2426\n",
            "18\n"
          ],
          "name": "stdout"
        }
      ]
    },
    {
      "cell_type": "markdown",
      "metadata": {
        "colab_type": "text",
        "id": "W8WYSjV3b4vS",
        "tags": [
          "python",
          "excercise"
        ]
      },
      "source": [
        "### Excercise 2\n",
        "\n",
        "<b><p> Write a program that computes the net amount of a bank account based a transaction log from console input. The transaction log format is shown as following: </b>\n",
        "    <br> D 100 \n",
        "    <br> W 200\n",
        "    \n",
        "   For example \n",
        "    \n",
        "    D means deposit while W means withdrawal.\n",
        "    Suppose the following input is supplied to the program:\n",
        "    D 300\n",
        "    D 300\n",
        "    W 200\n",
        "    D 100\n",
        "    Then, the output should be:\n",
        "    500\n",
        "\n",
        "\n",
        "Hints: In case of input data being supplied to the question, it should be assumed to be a console input."
      ]
    },
    {
      "cell_type": "code",
      "metadata": {
        "colab_type": "code",
        "id": "8ngdJGK3b4vU",
        "colab": {
          "base_uri": "https://localhost:8080/",
          "height": 119
        },
        "outputId": "fb5e897e-ba18-4330-d142-c7ce376bcb18"
      },
      "source": [
        "transaction_status_value = []\n",
        "while True:\n",
        "  x = input(\"Enter a parameter which D/W_space_value \")\n",
        "  if x == 'done':\n",
        "    break\n",
        "  else:\n",
        "    transaction_status_value.append(x)\n",
        "\n",
        "total_balance = 0\n",
        "for item_transaction_status_value in transaction_status_value:\n",
        "  if 'D' in item_transaction_status_value:\n",
        "    total_balance = total_balance + int(item_transaction_status_value.strip('D '))\n",
        "  elif 'W' in item_transaction_status_value:\n",
        "    total_balance = total_balance - int(item_transaction_status_value.strip('W '))\n",
        "\n",
        "print(\"The balance is\",total_balance)"
      ],
      "execution_count": 5,
      "outputs": [
        {
          "output_type": "stream",
          "text": [
            "Enter a parameter which D/W_space_value D 300\n",
            "Enter a parameter which D/W_space_value D 300\n",
            "Enter a parameter which D/W_space_value W 200\n",
            "Enter a parameter which D/W_space_value D 100\n",
            "Enter a parameter which D/W_space_value done\n",
            "The balance is 500\n"
          ],
          "name": "stdout"
        }
      ]
    },
    {
      "cell_type": "markdown",
      "metadata": {
        "colab_type": "text",
        "id": "Lhn6hdtAb4vY",
        "tags": [
          "python",
          "text",
          "excercise",
          "Peter",
          "Norvig"
        ]
      },
      "source": [
        "### Excercise 3\n",
        "\n",
        "<b><p> Download the dataset from  </b>\n",
        "\n",
        " http://norvig.com/ngrams/sowpods.txt \n",
        "\n",
        "    In this exercise, the task is to write a function that picks a random word from a list of words from the downloaded dictionary.\n",
        "\n",
        "<br>This file is Peter Norvig’s compilation of the dictionary of words used in professional Scrabble tournaments. Each line in the file contains a single word.\n",
        "\n",
        "    To solve this exercise, you need to do three things:\n",
        "\n",
        "-\tRead all the lists of words\n",
        "-\tGenerate a random number\n",
        "-\tTake that word\n"
      ]
    },
    {
      "cell_type": "code",
      "metadata": {
        "colab_type": "code",
        "id": "zh0NwwSab4vZ",
        "colab": {}
      },
      "source": [
        "def get_word():\n",
        "    file = open()\n",
        "    # don't know how to solve it\n",
        "    \n",
        "    \n",
        "    \n",
        "    \n",
        "    return word"
      ],
      "execution_count": 0,
      "outputs": []
    },
    {
      "cell_type": "markdown",
      "metadata": {
        "colab_type": "text",
        "id": "WYbmEOIhb4vd",
        "tags": [
          "words",
          "python",
          "code",
          "excercise"
        ]
      },
      "source": [
        "### Excercise 4\n",
        "\n",
        "<br><b>Write a program to compute the frequency of the words from the input. The output should output after sorting the key alphanumerically.</b> \n",
        "\n",
        "<br> Suppose the following input is supplied to the program:<br>\n",
        "<code> “New to Python or choosing between Python 2 and Python 3? Read Python 2 or Python 3.” </code>\n",
        "\n",
        "    Then, the output should be:\n",
        "    2:2\n",
        "    3.:1\n",
        "    3?:1\n",
        "    New:1\n",
        "    Python:5\n",
        "    Read:1\n",
        "    and:1\n",
        "    between:1\n",
        "    choosing:1\n",
        "    or:2\n",
        "    to:1\n",
        "<br><br> \n",
        "Hints: In case of input data being supplied to the question, it should be assumed to be a console input.\n"
      ]
    },
    {
      "cell_type": "code",
      "metadata": {
        "colab_type": "code",
        "id": "gSqU2xRLb4vf",
        "colab": {
          "base_uri": "https://localhost:8080/",
          "height": 68
        },
        "outputId": "d29b2fd9-5291-43ba-ae35-6dad09c9eb27"
      },
      "source": [
        "text = input(\"Enter your text here: \\n\")\n",
        "data_text = text.split(\" \")\n",
        "words_key = []\n",
        "for value_words in data_text:\n",
        "  words_key.append(value_words)\n",
        "# print(words_key)\n",
        "\n",
        "words_count = []\n",
        "for value_count in data_text:\n",
        "  words_count.append(data_text.count(value_count))\n",
        "# print(words_count)\n",
        "\n",
        "# print(len(words_key))\n",
        "# print(len(words_count))\n",
        "\n",
        "output = dict(zip(words_key,words_count))\n",
        "print(output)"
      ],
      "execution_count": 6,
      "outputs": [
        {
          "output_type": "stream",
          "text": [
            "Enter your text here: \n",
            "New to Python or choosing between Python 2 and Python 3? Read Python 2 or Python 3.\n",
            "{'New': 1, 'to': 1, 'Python': 5, 'or': 2, 'choosing': 1, 'between': 1, '2': 2, 'and': 1, '3?': 1, 'Read': 1, '3.': 1}\n"
          ],
          "name": "stdout"
        }
      ]
    },
    {
      "cell_type": "markdown",
      "metadata": {
        "colab_type": "text",
        "id": "Bkx3zUSlb4vj",
        "tags": [
          "regular_expression",
          "python",
          "excercise",
          "code"
        ]
      },
      "source": [
        "### Excercise 5\n",
        "\n",
        "<br><b>A website requires the users to input username and password to register. Write a program to check the validity of password input by users.</b> \n",
        "\n",
        "\n",
        "<br><br>Following are the criteria for checking the password:\n",
        "\n",
        "    a.\tAt least 1 letter between [a-z]\n",
        "    b.\tAt least 1 number between [0-9]\n",
        "    c.\tAt least 1 letter between [A-Z]\n",
        "    d.\tAt least 1 character from [_#@]\n",
        "    e.\tMinimum length of transaction password: 6\n",
        "    f.\tMaximum length of transaction password: 12\n",
        "\n",
        "<br> <p> Your program should accept a sequence of comma separated passwords and will check them according to the above criteria. Passwords that match the criteria are to be printed, each separated by a comma.\n",
        "<br><br>\n",
        "*For Example*\n",
        "<br>If the following passwords are given as input to the program:\n",
        "\n",
        "    ABd1234@1,a F1#,2w3E*,2We3345\n",
        "Then, the output of the program should be:\n",
        "\n",
        "    ABd1234@1\n",
        "\n",
        "<br>Hints: In case of input data being supplied to the question, it should be assumed to be a console input\n",
        "  \n"
      ]
    },
    {
      "cell_type": "code",
      "metadata": {
        "colab_type": "code",
        "id": "YgE1DnDDb4vl",
        "colab": {
          "base_uri": "https://localhost:8080/",
          "height": 392
        },
        "outputId": "24865a68-b782-4a18-9de4-cec44f842804"
      },
      "source": [
        "import re\n",
        "\n",
        "password = input(\" Enter the password here...\")\n",
        "while True:\n",
        "        if re.search('[a-z]', password) is None:\n",
        "            print(\"Your password should contain at least 1 lowercase, 1 number from 0 to 9, 1 uppercase, 1 character\")\n",
        "            break\n",
        "        elif re.search('[0-9]', password) is None:\n",
        "            print(\"Your password should contain at least 1 lowercase, 1 number from 0 to 9, 1 uppercase, 1 character\")\n",
        "            break\n",
        "        elif re.search('[A-Z]', password) is None:\n",
        "            print(\"Your password should contain at least 1 lowercase, 1 number from 0 to 9, 1 uppercase, 1 character\")\n",
        "            break\n",
        "        elif re.search('[_#@]', password) is None:\n",
        "            print(\"Your password should contain at least 1 lowercase, 1 number from 0 to 9, 1 uppercase, 1 character\")\n",
        "            break\n",
        "        elif not len(password) > 6 :\n",
        "            print(\"Please, Check again your length password!\")\n",
        "            break\n",
        "        elif not len(password) < 12 :\n",
        "            print(\"Please, Check again your length password!\")\n",
        "            break\n",
        "        else:\n",
        "            True"
      ],
      "execution_count": 8,
      "outputs": [
        {
          "output_type": "stream",
          "text": [
            " Enter the password here...ABd1234@1\n"
          ],
          "name": "stdout"
        },
        {
          "output_type": "error",
          "ename": "KeyboardInterrupt",
          "evalue": "ignored",
          "traceback": [
            "\u001b[0;31m---------------------------------------------------------------------------\u001b[0m",
            "\u001b[0;31mKeyboardInterrupt\u001b[0m                         Traceback (most recent call last)",
            "\u001b[0;32m<ipython-input-8-1a9c776ac89c>\u001b[0m in \u001b[0;36m<module>\u001b[0;34m()\u001b[0m\n\u001b[1;32m      3\u001b[0m \u001b[0mpassword\u001b[0m \u001b[0;34m=\u001b[0m \u001b[0minput\u001b[0m\u001b[0;34m(\u001b[0m\u001b[0;34m\" Enter the password here...\"\u001b[0m\u001b[0;34m)\u001b[0m\u001b[0;34m\u001b[0m\u001b[0;34m\u001b[0m\u001b[0m\n\u001b[1;32m      4\u001b[0m \u001b[0;32mwhile\u001b[0m \u001b[0;32mTrue\u001b[0m\u001b[0;34m:\u001b[0m\u001b[0;34m\u001b[0m\u001b[0;34m\u001b[0m\u001b[0m\n\u001b[0;32m----> 5\u001b[0;31m         \u001b[0;32mif\u001b[0m \u001b[0mre\u001b[0m\u001b[0;34m.\u001b[0m\u001b[0msearch\u001b[0m\u001b[0;34m(\u001b[0m\u001b[0;34m'[a-z]'\u001b[0m\u001b[0;34m,\u001b[0m \u001b[0mpassword\u001b[0m\u001b[0;34m)\u001b[0m \u001b[0;32mis\u001b[0m \u001b[0;32mNone\u001b[0m\u001b[0;34m:\u001b[0m\u001b[0;34m\u001b[0m\u001b[0;34m\u001b[0m\u001b[0m\n\u001b[0m\u001b[1;32m      6\u001b[0m             \u001b[0mprint\u001b[0m\u001b[0;34m(\u001b[0m\u001b[0;34m\"Your password should contain at least 1 lowercase, 1 number from 0 to 9, 1 uppercase, 1 character\"\u001b[0m\u001b[0;34m)\u001b[0m\u001b[0;34m\u001b[0m\u001b[0;34m\u001b[0m\u001b[0m\n\u001b[1;32m      7\u001b[0m             \u001b[0;32mbreak\u001b[0m\u001b[0;34m\u001b[0m\u001b[0;34m\u001b[0m\u001b[0m\n",
            "\u001b[0;32m/usr/lib/python3.6/re.py\u001b[0m in \u001b[0;36msearch\u001b[0;34m(pattern, string, flags)\u001b[0m\n\u001b[1;32m    180\u001b[0m     \"\"\"Scan through string looking for a match to the pattern, returning\n\u001b[1;32m    181\u001b[0m     a match object, or None if no match was found.\"\"\"\n\u001b[0;32m--> 182\u001b[0;31m     \u001b[0;32mreturn\u001b[0m \u001b[0m_compile\u001b[0m\u001b[0;34m(\u001b[0m\u001b[0mpattern\u001b[0m\u001b[0;34m,\u001b[0m \u001b[0mflags\u001b[0m\u001b[0;34m)\u001b[0m\u001b[0;34m.\u001b[0m\u001b[0msearch\u001b[0m\u001b[0;34m(\u001b[0m\u001b[0mstring\u001b[0m\u001b[0;34m)\u001b[0m\u001b[0;34m\u001b[0m\u001b[0;34m\u001b[0m\u001b[0m\n\u001b[0m\u001b[1;32m    183\u001b[0m \u001b[0;34m\u001b[0m\u001b[0m\n\u001b[1;32m    184\u001b[0m \u001b[0;32mdef\u001b[0m \u001b[0msub\u001b[0m\u001b[0;34m(\u001b[0m\u001b[0mpattern\u001b[0m\u001b[0;34m,\u001b[0m \u001b[0mrepl\u001b[0m\u001b[0;34m,\u001b[0m \u001b[0mstring\u001b[0m\u001b[0;34m,\u001b[0m \u001b[0mcount\u001b[0m\u001b[0;34m=\u001b[0m\u001b[0;36m0\u001b[0m\u001b[0;34m,\u001b[0m \u001b[0mflags\u001b[0m\u001b[0;34m=\u001b[0m\u001b[0;36m0\u001b[0m\u001b[0;34m)\u001b[0m\u001b[0;34m:\u001b[0m\u001b[0;34m\u001b[0m\u001b[0;34m\u001b[0m\u001b[0m\n",
            "\u001b[0;32m/usr/lib/python3.6/re.py\u001b[0m in \u001b[0;36m_compile\u001b[0;34m(pattern, flags)\u001b[0m\n\u001b[1;32m    287\u001b[0m     \u001b[0;31m# internal: compile pattern\u001b[0m\u001b[0;34m\u001b[0m\u001b[0;34m\u001b[0m\u001b[0;34m\u001b[0m\u001b[0m\n\u001b[1;32m    288\u001b[0m     \u001b[0;32mtry\u001b[0m\u001b[0;34m:\u001b[0m\u001b[0;34m\u001b[0m\u001b[0;34m\u001b[0m\u001b[0m\n\u001b[0;32m--> 289\u001b[0;31m         \u001b[0mp\u001b[0m\u001b[0;34m,\u001b[0m \u001b[0mloc\u001b[0m \u001b[0;34m=\u001b[0m \u001b[0m_cache\u001b[0m\u001b[0;34m[\u001b[0m\u001b[0mtype\u001b[0m\u001b[0;34m(\u001b[0m\u001b[0mpattern\u001b[0m\u001b[0;34m)\u001b[0m\u001b[0;34m,\u001b[0m \u001b[0mpattern\u001b[0m\u001b[0;34m,\u001b[0m \u001b[0mflags\u001b[0m\u001b[0;34m]\u001b[0m\u001b[0;34m\u001b[0m\u001b[0;34m\u001b[0m\u001b[0m\n\u001b[0m\u001b[1;32m    290\u001b[0m         \u001b[0;32mif\u001b[0m \u001b[0mloc\u001b[0m \u001b[0;32mis\u001b[0m \u001b[0;32mNone\u001b[0m \u001b[0;32mor\u001b[0m \u001b[0mloc\u001b[0m \u001b[0;34m==\u001b[0m \u001b[0m_locale\u001b[0m\u001b[0;34m.\u001b[0m\u001b[0msetlocale\u001b[0m\u001b[0;34m(\u001b[0m\u001b[0m_locale\u001b[0m\u001b[0;34m.\u001b[0m\u001b[0mLC_CTYPE\u001b[0m\u001b[0;34m)\u001b[0m\u001b[0;34m:\u001b[0m\u001b[0;34m\u001b[0m\u001b[0;34m\u001b[0m\u001b[0m\n\u001b[1;32m    291\u001b[0m             \u001b[0;32mreturn\u001b[0m \u001b[0mp\u001b[0m\u001b[0;34m\u001b[0m\u001b[0;34m\u001b[0m\u001b[0m\n",
            "\u001b[0;31mKeyboardInterrupt\u001b[0m: "
          ]
        }
      ]
    },
    {
      "cell_type": "code",
      "metadata": {
        "id": "2wfJN47K1cdO",
        "colab_type": "code",
        "colab": {}
      },
      "source": [
        ""
      ],
      "execution_count": 0,
      "outputs": []
    }
  ]
}